{
 "cells": [
  {
   "cell_type": "markdown",
   "metadata": {},
   "source": [
    "# <font color='blue'>Data Science Academy</font>\n",
    "\n",
    "## <font color='blue'>Fundamentos de Linguagem Python Para Análise de Dados e Data Science</font>\n",
    "\n",
    "## <font color='blue'>Capítulo 5 - Exercicios de Métodos e Funções</font>"
   ]
  },
  {
   "cell_type": "code",
   "execution_count": 1,
   "metadata": {},
   "outputs": [
    {
     "name": "stdout",
     "output_type": "stream",
     "text": [
      "Versão da Linguagem Python Usada Neste Jupyter Notebook: 3.8.8\n"
     ]
    }
   ],
   "source": [
    "# Versão da Linguagem Python\n",
    "from platform import python_version\n",
    "print('Versão da Linguagem Python Usada Neste Jupyter Notebook:', python_version())"
   ]
  },
  {
   "cell_type": "markdown",
   "metadata": {},
   "source": [
    "## Exercícios - Métodos e Funções"
   ]
  },
  {
   "cell_type": "code",
   "execution_count": 4,
   "metadata": {},
   "outputs": [],
   "source": [
    "# Exercício 1 - Crie uma função que imprima a sequência de números pares entre 1 e 20 (a função não recebe parâmetro) \n",
    "# e depois faça uma chamada à função para listar os números      \n",
    "def imprimePares():\n",
    "    for i in range(1,21):\n",
    "        if i%2 == 0:\n",
    "            print(i)"
   ]
  },
  {
   "cell_type": "code",
   "execution_count": 5,
   "metadata": {},
   "outputs": [
    {
     "name": "stdout",
     "output_type": "stream",
     "text": [
      "2\n",
      "4\n",
      "6\n",
      "8\n",
      "10\n",
      "12\n",
      "14\n",
      "16\n",
      "18\n",
      "20\n"
     ]
    }
   ],
   "source": [
    "imprimePares()"
   ]
  },
  {
   "cell_type": "code",
   "execution_count": 25,
   "metadata": {},
   "outputs": [],
   "source": [
    "# Exercício 2 - Crie uma função que receba uma string como argumento e retorne a mesma string em letras maiúsculas.\n",
    "# Faça uma chamada à função, passando como parâmetro uma string\n",
    "\n",
    "def tornandoMaiusculo(palavra):\n",
    "    return palavra.upper()"
   ]
  },
  {
   "cell_type": "code",
   "execution_count": 27,
   "metadata": {},
   "outputs": [
    {
     "name": "stdout",
     "output_type": "stream",
     "text": [
      "CADERNO\n"
     ]
    }
   ],
   "source": [
    "resultado = tornandoMaiusculo('caderno')\n",
    "print(resultado)"
   ]
  },
  {
   "cell_type": "code",
   "execution_count": 40,
   "metadata": {},
   "outputs": [
    {
     "name": "stdout",
     "output_type": "stream",
     "text": [
      "[9, 'urano', 'mercurio', 56, 3, 'xyz']\n"
     ]
    }
   ],
   "source": [
    "# Exercício 3 - Crie uma função que receba como parâmetro uma lista de 4 elementos, adicione 2 elementos a lista e \n",
    "# imprima a lista\n",
    "\n",
    "def atualizaLista(lista):\n",
    "    lista.append(3)\n",
    "    lista.append('xyz')\n",
    "    return lista\n",
    "\n",
    "listaOriginal =[9,'urano','mercurio',56]\n",
    "\n",
    "listaAlterada = atualizaLista(listaOriginal)\n",
    "print(listaAlterada)"
   ]
  },
  {
   "cell_type": "code",
   "execution_count": 41,
   "metadata": {},
   "outputs": [],
   "source": [
    "# Exercício 4 - Crie uma função que receba um argumento formal e uma possível lista de elementos. Faça duas chamadas \n",
    "# à função, com apenas 1 elemento e na segunda chamada com 4 elementos\n",
    "def funcaoArgumentosVariaveis(arg1, *varlist):\n",
    "    print('O parâmetro passado foi: ',arg1)\n",
    "    \n",
    "    for i in varlist:\n",
    "        print('O parâmetro passado foi: ', i)\n",
    "    return"
   ]
  },
  {
   "cell_type": "code",
   "execution_count": 43,
   "metadata": {},
   "outputs": [
    {
     "name": "stdout",
     "output_type": "stream",
     "text": [
      "O parâmetro passado foi:  oi\n"
     ]
    }
   ],
   "source": [
    "funcaoArgumentosVariaveis('oi')"
   ]
  },
  {
   "cell_type": "code",
   "execution_count": 44,
   "metadata": {},
   "outputs": [
    {
     "name": "stdout",
     "output_type": "stream",
     "text": [
      "O parâmetro passado foi:  oi\n",
      "O parâmetro passado foi:  como\n",
      "O parâmetro passado foi:  vai\n"
     ]
    }
   ],
   "source": [
    "funcaoArgumentosVariaveis('oi','como','vai')"
   ]
  },
  {
   "cell_type": "code",
   "execution_count": 45,
   "metadata": {},
   "outputs": [
    {
     "name": "stdout",
     "output_type": "stream",
     "text": [
      "6\n"
     ]
    }
   ],
   "source": [
    "# Exercício 5 - Crie uma função anônima e atribua seu retorno a uma variável chamada soma. A expressão vai receber 2 \n",
    "# números como parâmetro e retornar a soma deles\n",
    "soma = lambda a,b: a+b\n",
    "\n",
    "print(soma(2,4))"
   ]
  },
  {
   "cell_type": "code",
   "execution_count": 46,
   "metadata": {},
   "outputs": [
    {
     "name": "stdout",
     "output_type": "stream",
     "text": [
      "Dentro da função o total é:  30\n",
      "Fora da função o total é:  0\n"
     ]
    }
   ],
   "source": [
    "# Exercício 6 - Execute o código abaixo e certifique-se que compreende a diferença entre variável global e local\n",
    "total = 0\n",
    "def soma( arg1, arg2 ):\n",
    "    total = arg1 + arg2; \n",
    "    print (\"Dentro da função o total é: \", total)\n",
    "    return total;\n",
    "\n",
    "\n",
    "soma( 10, 20 );\n",
    "print (\"Fora da função o total é: \", total)"
   ]
  },
  {
   "cell_type": "code",
   "execution_count": 48,
   "metadata": {},
   "outputs": [
    {
     "name": "stdout",
     "output_type": "stream",
     "text": [
      "[102.56, 97.7, 99.14, 100.03999999999999]\n"
     ]
    }
   ],
   "source": [
    "# Exercício 7 - Abaixo você encontra uma lista com temperaturas em graus Celsius\n",
    "# Crie uma função anônima que converta cada temperatura para Fahrenheit\n",
    "# Dica: para conseguir realizar este exercício, você deve criar sua função lambda, dentro de uma função \n",
    "# (que será estudada no próximo capítulo). Isso permite aplicar sua função a cada elemento da lista\n",
    "# Como descobrir a fórmula matemática que converte de Celsius para Fahrenheit? Pesquise!!!\n",
    "Celsius = [39.2, 36.5, 37.3, 37.8]\n",
    "Fahrenheit = map(lambda i: i*1.8 +32, Celsius)\n",
    "print (list(Fahrenheit))"
   ]
  },
  {
   "cell_type": "code",
   "execution_count": 49,
   "metadata": {},
   "outputs": [
    {
     "data": {
      "text/plain": [
       "[1, 4, 9, 16, 25, 36, 49, 64, 81, 100]"
      ]
     },
     "execution_count": 49,
     "metadata": {},
     "output_type": "execute_result"
    }
   ],
   "source": [
    "# Exercício 8 - Crie uma list comprehension que imprima o quadrado dos números de 1 a 10\n",
    "[x**2 for x in range(1,11)]"
   ]
  },
  {
   "cell_type": "code",
   "execution_count": 50,
   "metadata": {},
   "outputs": [
    {
     "name": "stdout",
     "output_type": "stream",
     "text": [
      "['maça', 'banana']\n"
     ]
    }
   ],
   "source": [
    "# Exercício 9 - Crie uma list comprehension que imprima as palavras com a letra a no nome\n",
    "palavras = [\"maça\", \"coiote\", \"banana\", \"terreno\", \"Python\"]\n",
    "\n",
    "novaLista = [palavra for palavra in palavras if 'a' in palavra]\n",
    "print(novaLista)\n"
   ]
  },
  {
   "cell_type": "code",
   "execution_count": 51,
   "metadata": {},
   "outputs": [
    {
     "name": "stdout",
     "output_type": "stream",
     "text": [
      "[1, 2, 3, 4]\n"
     ]
    }
   ],
   "source": [
    "# Exercício 10 - Crie uma list comprehension que imprima os números menores que 5 em um intervalo de 1 a 10\n",
    "menor5 = [x for x in range(1,10) if x < 5]\n",
    "print(menor5)"
   ]
  },
  {
   "cell_type": "markdown",
   "metadata": {},
   "source": [
    "# Fim"
   ]
  },
  {
   "cell_type": "markdown",
   "metadata": {},
   "source": [
    "### Obrigado\n",
    "\n",
    "### Visite o Blog da Data Science Academy - <a href=\"http://blog.dsacademy.com.br\">Blog DSA</a>"
   ]
  }
 ],
 "metadata": {
  "kernelspec": {
   "display_name": "Python 3 (ipykernel)",
   "language": "python",
   "name": "python3"
  },
  "language_info": {
   "codemirror_mode": {
    "name": "ipython",
    "version": 3
   },
   "file_extension": ".py",
   "mimetype": "text/x-python",
   "name": "python",
   "nbconvert_exporter": "python",
   "pygments_lexer": "ipython3",
   "version": "3.9.13"
  }
 },
 "nbformat": 4,
 "nbformat_minor": 1
}
